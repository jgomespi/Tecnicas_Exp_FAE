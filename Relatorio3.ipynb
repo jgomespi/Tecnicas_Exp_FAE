{
 "cells": [
  {
   "cell_type": "code",
   "execution_count": 1,
   "id": "399b3d56",
   "metadata": {},
   "outputs": [],
   "source": [
    "import pandas\n",
    "import numpy as np\n",
    "import matplotlib.pyplot as plt\n",
    "from scipy import stats\n",
    "from scipy.optimize import curve_fit\n",
    "import math"
   ]
  },
  {
   "cell_type": "code",
   "execution_count": 2,
   "id": "c791ec38",
   "metadata": {},
   "outputs": [],
   "source": [
    "def open_file(filename):\n",
    "    txt_file = open(filename+\".txt\")\n",
    "    read_txt = pandas.read_csv(txt_file, delimiter=\"\\t\")\n",
    "    return np.array(read_txt)"
   ]
  },
  {
   "cell_type": "code",
   "execution_count": 3,
   "id": "6f3ca65c",
   "metadata": {},
   "outputs": [],
   "source": [
    "#geiger = '_cinza'\n",
    "geiger = '_preto'"
   ]
  },
  {
   "cell_type": "code",
   "execution_count": 4,
   "id": "b39d628a",
   "metadata": {},
   "outputs": [],
   "source": [
    "dead_time = open_file('plato'+geiger)"
   ]
  },
  {
   "cell_type": "code",
   "execution_count": 5,
   "id": "022d1934",
   "metadata": {},
   "outputs": [
    {
     "data": {
      "text/plain": [
       "array([475, 480, 485, 490, 495, 500, 505, 510, 515, 520, 525, 530, 535,\n",
       "       540, 545, 550, 555, 560, 565, 570, 575, 580])"
      ]
     },
     "execution_count": 5,
     "metadata": {},
     "output_type": "execute_result"
    }
   ],
   "source": [
    "dead_time[:,0]"
   ]
  },
  {
   "cell_type": "code",
   "execution_count": 6,
   "id": "67354f89",
   "metadata": {},
   "outputs": [
    {
     "data": {
      "text/plain": [
       "array([    0,  2273,  2229,  2363,  2389,  2387,  2438,  2379,  2474,\n",
       "        2622,  2530,  2741,  2791,  3097,  3146,  3716,  4089,  5445,\n",
       "        4998,  5737,  6498, 17647])"
      ]
     },
     "execution_count": 6,
     "metadata": {},
     "output_type": "execute_result"
    }
   ],
   "source": [
    "dead_time[:,1]"
   ]
  },
  {
   "cell_type": "code",
   "execution_count": 7,
   "id": "ac8dda0c",
   "metadata": {},
   "outputs": [
    {
     "data": {
      "image/png": "[encoded data removed]",
      "text/plain": [
       "<Figure size 432x288 with 1 Axes>"
      ]
     },
     "metadata": {
      "needs_background": "light"
     },
     "output_type": "display_data"
    }
   ],
   "source": [
    "voltage = dead_time[:,0]\n",
    "counts = dead_time[:,1]\n",
    "z = np.polyfit(voltage[3:7], counts[3:7], 1)\n",
    "xp = np.linspace(330, 850, 100)\n",
    "p = np.poly1d(z)\n",
    "#plt.plot(voltage, counts, '.', xp, p(xp), '-')\n",
    "plt.plot(voltage, counts, '.')\n",
    "#plt.yscale('log')\n",
    "plt.vlines(x=330+0.25*(850-330),ymin=0, ymax=17600)\n",
    "plt.text(s='Ponto de platô: {0:.1f} V'.format(330+0.25*(850-330)), y = 10000, x=10+330+0.25*(850-330))\n",
    "plt.xlabel(\"Tensão (V)\")\n",
    "plt.ylabel(\"Contagem\")\n",
    "plt.show()"
   ]
  },
  {
   "cell_type": "markdown",
   "id": "c768012b",
   "metadata": {},
   "source": [
    "Tomada de dados com a fonte 1:"
   ]
  },
  {
   "cell_type": "code",
   "execution_count": 8,
   "id": "204f1564",
   "metadata": {},
   "outputs": [],
   "source": [
    "fonte1 = open_file('fonte1'+geiger)[:,2]"
   ]
  },
  {
   "cell_type": "code",
   "execution_count": 9,
   "id": "4f2bfb55",
   "metadata": {},
   "outputs": [
    {
     "data": {
      "text/plain": [
       "array([1190, 1186, 1209, 1214, 1263, 1283, 1266, 1287, 1164, 1259, 1286,\n",
       "       1279, 1214, 1225, 1198, 1280, 1284, 1218, 1232, 1230, 1240, 1240,\n",
       "       1262, 1223, 1244, 1257, 1196, 1229, 1244, 1237, 1245, 1263, 1243,\n",
       "       1249, 1210, 1188, 1239, 1297, 1273, 1281, 1160, 1237, 1236, 1222,\n",
       "       1231, 1246, 1310, 1249, 1192, 1212, 1247, 1234, 1244, 1272, 1231,\n",
       "       1178, 1243, 1234, 1220], dtype=object)"
      ]
     },
     "execution_count": 9,
     "metadata": {},
     "output_type": "execute_result"
    }
   ],
   "source": [
    "fonte1"
   ]
  },
  {
   "cell_type": "code",
   "execution_count": 10,
   "id": "c4a3ce34",
   "metadata": {},
   "outputs": [],
   "source": [
    "fonte1_mean = fonte1.mean()\n",
    "fonte1_error = math.sqrt(fonte1_mean/59)\n",
    "fonte1_error = fonte1_error/math.sqrt(59)"
   ]
  },
  {
   "cell_type": "code",
   "execution_count": 11,
   "id": "4678608f",
   "metadata": {},
   "outputs": [
    {
     "data": {
      "text/plain": [
       "1237.7118644067796"
      ]
     },
     "execution_count": 11,
     "metadata": {},
     "output_type": "execute_result"
    }
   ],
   "source": [
    "fonte1_mean"
   ]
  },
  {
   "cell_type": "code",
   "execution_count": 12,
   "id": "6d4bc54b",
   "metadata": {},
   "outputs": [
    {
     "data": {
      "text/plain": [
       "0.5962903284636113"
      ]
     },
     "execution_count": 12,
     "metadata": {},
     "output_type": "execute_result"
    }
   ],
   "source": [
    "fonte1_error"
   ]
  },
  {
   "cell_type": "markdown",
   "id": "ea51018c",
   "metadata": {},
   "source": [
    "Tomada de dados com a fonte 2:"
   ]
  },
  {
   "cell_type": "code",
   "execution_count": 13,
   "id": "e5ba16ea",
   "metadata": {},
   "outputs": [],
   "source": [
    "fonte2 = open_file('fonte2'+geiger)[:,2]"
   ]
  },
  {
   "cell_type": "code",
   "execution_count": 14,
   "id": "87afe0af",
   "metadata": {},
   "outputs": [
    {
     "data": {
      "text/plain": [
       "array([1212, 1257, 1227, 1211, 1173, 1159, 1219, 1221, 1277, 1196, 1327,\n",
       "       1213, 1232, 1145, 1215, 1235, 1256, 1212, 1228, 1191, 1243, 1262,\n",
       "       1218, 1157, 1203, 1197, 1222, 1214, 1190, 1244, 1223, 1184, 1233,\n",
       "       1152, 1201, 1267, 1183, 1213, 1224, 1221, 1258, 1202, 1189, 1160,\n",
       "       1218, 1254, 1234, 1217, 1225, 1207, 1228, 1165, 1178, 1282, 1219,\n",
       "       1203, 1183, 1250, 1202], dtype=object)"
      ]
     },
     "execution_count": 14,
     "metadata": {},
     "output_type": "execute_result"
    }
   ],
   "source": [
    "fonte2"
   ]
  },
  {
   "cell_type": "code",
   "execution_count": 15,
   "id": "eaae079a",
   "metadata": {},
   "outputs": [],
   "source": [
    "fonte2_mean = fonte2.mean()\n",
    "fonte2_error = math.sqrt(fonte2_mean/59)\n",
    "fonte2_error = fonte2_error/math.sqrt(59)"
   ]
  },
  {
   "cell_type": "code",
   "execution_count": 16,
   "id": "634286db",
   "metadata": {},
   "outputs": [
    {
     "data": {
      "text/plain": [
       "1215.7796610169491"
      ]
     },
     "execution_count": 16,
     "metadata": {},
     "output_type": "execute_result"
    }
   ],
   "source": [
    "fonte2_mean"
   ]
  },
  {
   "cell_type": "code",
   "execution_count": 17,
   "id": "cac01a1d",
   "metadata": {},
   "outputs": [
    {
     "data": {
      "text/plain": [
       "0.5909835945483306"
      ]
     },
     "execution_count": 17,
     "metadata": {},
     "output_type": "execute_result"
    }
   ],
   "source": [
    "fonte2_error"
   ]
  },
  {
   "cell_type": "markdown",
   "id": "79cca470",
   "metadata": {},
   "source": [
    "Tomada de dados com as duas fontes:"
   ]
  },
  {
   "cell_type": "code",
   "execution_count": 18,
   "id": "cf3c7f82",
   "metadata": {},
   "outputs": [],
   "source": [
    "fonte12 = open_file('fonte12'+geiger)[:,2]"
   ]
  },
  {
   "cell_type": "code",
   "execution_count": 19,
   "id": "32f3a130",
   "metadata": {},
   "outputs": [
    {
     "data": {
      "text/plain": [
       "array([2291, 2279, 2250, 2358, 2317, 2277, 2478, 2363, 2339, 2330, 2167,\n",
       "       2359, 2267, 2298, 2318, 2342, 2345, 2364, 2360, 2309, 2297, 2279,\n",
       "       2383, 2336, 2269, 2300, 2207, 2256, 2380, 2390, 2405, 2332, 2339,\n",
       "       2437, 2355, 2348, 2398, 2312, 2360, 2269, 2368, 2448, 2328, 2294,\n",
       "       2373, 2417, 2260, 2347, 2323, 2368, 2294, 2262, 2335, 2287, 2326,\n",
       "       2328, 2324, 2267, 2311], dtype=object)"
      ]
     },
     "execution_count": 19,
     "metadata": {},
     "output_type": "execute_result"
    }
   ],
   "source": [
    "fonte12"
   ]
  },
  {
   "cell_type": "code",
   "execution_count": 20,
   "id": "c16a591a",
   "metadata": {},
   "outputs": [],
   "source": [
    "fonte12_mean = fonte12.mean()\n",
    "fonte12_error = math.sqrt(fonte12_mean/59)\n",
    "fonte12_error = fonte12_error/math.sqrt(59)"
   ]
  },
  {
   "cell_type": "code",
   "execution_count": 21,
   "id": "d359a927",
   "metadata": {},
   "outputs": [
    {
     "data": {
      "text/plain": [
       "2327.508474576271"
      ]
     },
     "execution_count": 21,
     "metadata": {},
     "output_type": "execute_result"
    }
   ],
   "source": [
    "fonte12_mean"
   ]
  },
  {
   "cell_type": "code",
   "execution_count": 22,
   "id": "6600be19",
   "metadata": {},
   "outputs": [
    {
     "data": {
      "text/plain": [
       "0.8176992959710224"
      ]
     },
     "execution_count": 22,
     "metadata": {},
     "output_type": "execute_result"
    }
   ],
   "source": [
    "fonte12_error"
   ]
  },
  {
   "cell_type": "code",
   "execution_count": 23,
   "id": "d32cbc23",
   "metadata": {},
   "outputs": [],
   "source": [
    "back = open_file('fundo'+geiger)[:,2]"
   ]
  },
  {
   "cell_type": "code",
   "execution_count": 24,
   "id": "95917ea0",
   "metadata": {},
   "outputs": [
    {
     "data": {
      "text/plain": [
       "array([83, 87, 97, 82, 90, 81, 85, 84, 82, 82, 91, 92, 94, 101, 83, 72,\n",
       "       95, 98, 81, 88, 108, 86, 71, 97, 104, 72, 83, 93, 79, 94, 101, 81,\n",
       "       104, 77, 86, 78, 92, 102, 95, 80, 88, 81, 81, 63, 77, 70, 97, 85,\n",
       "       102, 74, 87, 80, 94, 86, 82, 84, 84, 88, 82], dtype=object)"
      ]
     },
     "execution_count": 24,
     "metadata": {},
     "output_type": "execute_result"
    }
   ],
   "source": [
    "back"
   ]
  },
  {
   "cell_type": "code",
   "execution_count": 25,
   "id": "354ab143",
   "metadata": {},
   "outputs": [],
   "source": [
    "back_mean = back.mean()\n",
    "back_error = math.sqrt(back_mean/59)\n",
    "back_error = back_error/math.sqrt(59)"
   ]
  },
  {
   "cell_type": "code",
   "execution_count": 26,
   "id": "980a78ef",
   "metadata": {},
   "outputs": [
    {
     "data": {
      "text/plain": [
       "86.71186440677967"
      ]
     },
     "execution_count": 26,
     "metadata": {},
     "output_type": "execute_result"
    }
   ],
   "source": [
    "back_mean"
   ]
  },
  {
   "cell_type": "code",
   "execution_count": 27,
   "id": "297b45f7",
   "metadata": {},
   "outputs": [
    {
     "data": {
      "text/plain": [
       "0.15782916193472613"
      ]
     },
     "execution_count": 27,
     "metadata": {},
     "output_type": "execute_result"
    }
   ],
   "source": [
    "back_error"
   ]
  },
  {
   "cell_type": "code",
   "execution_count": 28,
   "id": "a782d991",
   "metadata": {},
   "outputs": [],
   "source": [
    "R1 = fonte1_mean - back_mean\n",
    "R1_error = math.sqrt(fonte1_error**2 + back_error**2)"
   ]
  },
  {
   "cell_type": "code",
   "execution_count": 29,
   "id": "9750d390",
   "metadata": {},
   "outputs": [
    {
     "data": {
      "text/plain": [
       "1151.0"
      ]
     },
     "execution_count": 29,
     "metadata": {},
     "output_type": "execute_result"
    }
   ],
   "source": [
    "R1"
   ]
  },
  {
   "cell_type": "code",
   "execution_count": 30,
   "id": "c300ddba",
   "metadata": {},
   "outputs": [
    {
     "data": {
      "text/plain": [
       "0.6168242863054757"
      ]
     },
     "execution_count": 30,
     "metadata": {},
     "output_type": "execute_result"
    }
   ],
   "source": [
    "R1_error"
   ]
  },
  {
   "cell_type": "code",
   "execution_count": 31,
   "id": "23a03ecd",
   "metadata": {},
   "outputs": [],
   "source": [
    "R2 = fonte2_mean - back_mean\n",
    "R2_error = math.sqrt(fonte2_error**2 + back_error**2)"
   ]
  },
  {
   "cell_type": "code",
   "execution_count": 32,
   "id": "9feb1a9e",
   "metadata": {},
   "outputs": [
    {
     "data": {
      "text/plain": [
       "1129.0677966101696"
      ]
     },
     "execution_count": 32,
     "metadata": {},
     "output_type": "execute_result"
    }
   ],
   "source": [
    "R2"
   ]
  },
  {
   "cell_type": "code",
   "execution_count": 33,
   "id": "3a6a5857",
   "metadata": {},
   "outputs": [
    {
     "data": {
      "text/plain": [
       "0.61169571960435"
      ]
     },
     "execution_count": 33,
     "metadata": {},
     "output_type": "execute_result"
    }
   ],
   "source": [
    "R2_error"
   ]
  },
  {
   "cell_type": "code",
   "execution_count": 34,
   "id": "148f6a2c",
   "metadata": {},
   "outputs": [],
   "source": [
    "R12 = fonte12_mean - back_mean\n",
    "R12_error = math.sqrt(fonte12_error**2 + back_error**2)"
   ]
  },
  {
   "cell_type": "code",
   "execution_count": 35,
   "id": "a77624a4",
   "metadata": {},
   "outputs": [
    {
     "data": {
      "text/plain": [
       "2240.7966101694915"
      ]
     },
     "execution_count": 35,
     "metadata": {},
     "output_type": "execute_result"
    }
   ],
   "source": [
    "R12"
   ]
  },
  {
   "cell_type": "code",
   "execution_count": 36,
   "id": "e1d727f9",
   "metadata": {},
   "outputs": [
    {
     "data": {
      "text/plain": [
       "0.8327918005050985"
      ]
     },
     "execution_count": 36,
     "metadata": {},
     "output_type": "execute_result"
    }
   ],
   "source": [
    "R12_error"
   ]
  },
  {
   "cell_type": "code",
   "execution_count": 37,
   "id": "eec1f548",
   "metadata": {},
   "outputs": [
    {
     "name": "stdout",
     "output_type": "stream",
     "text": [
      "R1: 1151.000 +/- 0.617 Hz\n",
      "R2: 1129.068 +/- 0.612 Hz\n",
      "R12: 2240.797 +/- 0.833 Hz\n"
     ]
    }
   ],
   "source": [
    "print('R1: {0:.3f} +/- {1:.3f} Hz'.format(R1,R1_error))\n",
    "print('R2: {0:.3f} +/- {1:.3f} Hz'.format(R2,R2_error))\n",
    "print('R12: {0:.3f} +/- {1:.3f} Hz'.format(R12,R12_error))"
   ]
  },
  {
   "cell_type": "code",
   "execution_count": 38,
   "id": "b7ef2eec",
   "metadata": {},
   "outputs": [],
   "source": [
    "dead_time = (R1 + R2 - R12)/(2*R1*R2)"
   ]
  },
  {
   "cell_type": "code",
   "execution_count": 39,
   "id": "e8361b82",
   "metadata": {},
   "outputs": [],
   "source": [
    "sigma_R1 = (R12-R2)/(2*R1*R1*R2)"
   ]
  },
  {
   "cell_type": "code",
   "execution_count": 40,
   "id": "5b3b1d68",
   "metadata": {},
   "outputs": [
    {
     "data": {
      "text/plain": [
       "3.716192463627597e-07"
      ]
     },
     "execution_count": 40,
     "metadata": {},
     "output_type": "execute_result"
    }
   ],
   "source": [
    "sigma_R1"
   ]
  },
  {
   "cell_type": "code",
   "execution_count": 41,
   "id": "c59dc22e",
   "metadata": {},
   "outputs": [],
   "source": [
    "sigma_R2 = (R12-R1)/(2*R2*R2*R1)"
   ]
  },
  {
   "cell_type": "code",
   "execution_count": 42,
   "id": "0d5db077",
   "metadata": {},
   "outputs": [
    {
     "data": {
      "text/plain": [
       "3.7136424905058043e-07"
      ]
     },
     "execution_count": 42,
     "metadata": {},
     "output_type": "execute_result"
    }
   ],
   "source": [
    "sigma_R2"
   ]
  },
  {
   "cell_type": "code",
   "execution_count": 43,
   "id": "4d985726",
   "metadata": {},
   "outputs": [],
   "source": [
    "sigma_R12 = 1/(2*R1*R2)"
   ]
  },
  {
   "cell_type": "code",
   "execution_count": 44,
   "id": "7278ede3",
   "metadata": {},
   "outputs": [
    {
     "data": {
      "text/plain": [
       "3.8474648434639365e-07"
      ]
     },
     "execution_count": 44,
     "metadata": {},
     "output_type": "execute_result"
    }
   ],
   "source": [
    "sigma_R12"
   ]
  },
  {
   "cell_type": "code",
   "execution_count": 45,
   "id": "00e0069a",
   "metadata": {},
   "outputs": [
    {
     "data": {
      "text/plain": [
       "5.2543539673994247e-14"
      ]
     },
     "execution_count": 45,
     "metadata": {},
     "output_type": "execute_result"
    }
   ],
   "source": [
    "((R12-R2)/(2*R1*R1*R2)*R1_error)**2"
   ]
  },
  {
   "cell_type": "code",
   "execution_count": 46,
   "id": "e415b67b",
   "metadata": {},
   "outputs": [
    {
     "data": {
      "text/plain": [
       "5.5388576424794474e-14"
      ]
     },
     "execution_count": 46,
     "metadata": {},
     "output_type": "execute_result"
    }
   ],
   "source": [
    "R2_error**2/(2*R1*R2)**2"
   ]
  },
  {
   "cell_type": "code",
   "execution_count": 47,
   "id": "dbfac524",
   "metadata": {},
   "outputs": [
    {
     "data": {
      "text/plain": [
       "5.1602538606070076e-14"
      ]
     },
     "execution_count": 47,
     "metadata": {},
     "output_type": "execute_result"
    }
   ],
   "source": [
    "((R12-R1)/(2*R2*R2*R1)*R2_error)**2"
   ]
  },
  {
   "cell_type": "code",
   "execution_count": 48,
   "id": "21d2c8c3",
   "metadata": {},
   "outputs": [],
   "source": [
    "dead_time_error = math.sqrt(((R12-R2)/(2*R1*R1*R2)*R1_error)**2+((R12-R1)/(2*R2*R2*R1)*R2_error)**2+R2_error**2/(2*R1*R2)**2)"
   ]
  },
  {
   "cell_type": "code",
   "execution_count": 49,
   "id": "1f2e4c3a",
   "metadata": {},
   "outputs": [
    {
     "name": "stdout",
     "output_type": "stream",
     "text": [
      "dead time: 8.91458 +/- 0.23566 ms\n"
     ]
    }
   ],
   "source": [
    "print('dead time: {0:.5f} +/- {1:.5f} ms'.format(dead_time*10e3*59,dead_time_error*10e3*59))"
   ]
  },
  {
   "cell_type": "code",
   "execution_count": null,
   "id": "9dba5853",
   "metadata": {},
   "outputs": [],
   "source": []
  },
  {
   "cell_type": "code",
   "execution_count": null,
   "id": "b969715e",
   "metadata": {},
   "outputs": [],
   "source": []
  }
 ],
 "metadata": {
  "kernelspec": {
   "display_name": "Python 3",
   "language": "python",
   "name": "python3"
  },
  "language_info": {
   "codemirror_mode": {
    "name": "ipython",
    "version": 3
   },
   "file_extension": ".py",
   "mimetype": "text/x-python",
   "name": "python",
   "nbconvert_exporter": "python",
   "pygments_lexer": "ipython3",
   "version": "3.9.12"
  }
 },
 "nbformat": 4,
 "nbformat_minor": 5
}
