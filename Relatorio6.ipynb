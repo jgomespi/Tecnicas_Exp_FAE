{
 "cells": [
  {
   "cell_type": "code",
   "execution_count": 1,
   "id": "2eaff902",
   "metadata": {},
   "outputs": [],
   "source": [
    "import pandas as pd\n",
    "import numpy as np\n",
    "import statistics as stat\n",
    "import matplotlib.pyplot as plt\n",
    "import math\n",
    "from scipy.optimize import curve_fit\n",
    "from scipy.special import gamma, factorial"
   ]
  },
  {
   "cell_type": "code",
   "execution_count": 2,
   "id": "b1f28ebe",
   "metadata": {},
   "outputs": [],
   "source": [
    "joao = True\n",
    "if joao:\n",
    "    pedestal = pd.read_csv(\"output_pedestal_Joao.txt\", sep=\" \")\n",
    "    sinal = pd.read_csv(\"output_sinal_Joao.txt\", sep=\" \")\n",
    "else:\n",
    "    pedestal = pd.read_csv(\"output_pedestal_Katherine.txt\", sep=\" \")\n",
    "    sinal = pd.read_csv(\"output_sinal_Katherine.txt\", sep=\" \")"
   ]
  },
  {
   "cell_type": "code",
   "execution_count": 3,
   "id": "121baf26",
   "metadata": {},
   "outputs": [
    {
     "data": {
      "text/html": [
       "<div>\n",
       "<style scoped>\n",
       "    .dataframe tbody tr th:only-of-type {\n",
       "        vertical-align: middle;\n",
       "    }\n",
       "\n",
       "    .dataframe tbody tr th {\n",
       "        vertical-align: top;\n",
       "    }\n",
       "\n",
       "    .dataframe thead th {\n",
       "        text-align: right;\n",
       "    }\n",
       "</style>\n",
       "<table border=\"1\" class=\"dataframe\">\n",
       "  <thead>\n",
       "    <tr style=\"text-align: right;\">\n",
       "      <th></th>\n",
       "      <th>ADC1</th>\n",
       "      <th>ADC2</th>\n",
       "      <th>NaN</th>\n",
       "    </tr>\n",
       "  </thead>\n",
       "  <tbody>\n",
       "    <tr>\n",
       "      <th>1</th>\n",
       "      <td>62</td>\n",
       "      <td>488</td>\n",
       "      <td>NaN</td>\n",
       "    </tr>\n",
       "    <tr>\n",
       "      <th>1</th>\n",
       "      <td>103</td>\n",
       "      <td>810</td>\n",
       "      <td>NaN</td>\n",
       "    </tr>\n",
       "    <tr>\n",
       "      <th>1</th>\n",
       "      <td>620</td>\n",
       "      <td>4095</td>\n",
       "      <td>NaN</td>\n",
       "    </tr>\n",
       "    <tr>\n",
       "      <th>1</th>\n",
       "      <td>48</td>\n",
       "      <td>373</td>\n",
       "      <td>NaN</td>\n",
       "    </tr>\n",
       "    <tr>\n",
       "      <th>1</th>\n",
       "      <td>74</td>\n",
       "      <td>568</td>\n",
       "      <td>NaN</td>\n",
       "    </tr>\n",
       "    <tr>\n",
       "      <th>...</th>\n",
       "      <td>...</td>\n",
       "      <td>...</td>\n",
       "      <td>...</td>\n",
       "    </tr>\n",
       "    <tr>\n",
       "      <th>1</th>\n",
       "      <td>106</td>\n",
       "      <td>827</td>\n",
       "      <td>NaN</td>\n",
       "    </tr>\n",
       "    <tr>\n",
       "      <th>1</th>\n",
       "      <td>82</td>\n",
       "      <td>637</td>\n",
       "      <td>NaN</td>\n",
       "    </tr>\n",
       "    <tr>\n",
       "      <th>1</th>\n",
       "      <td>125</td>\n",
       "      <td>980</td>\n",
       "      <td>NaN</td>\n",
       "    </tr>\n",
       "    <tr>\n",
       "      <th>1</th>\n",
       "      <td>81</td>\n",
       "      <td>632</td>\n",
       "      <td>NaN</td>\n",
       "    </tr>\n",
       "    <tr>\n",
       "      <th>1</th>\n",
       "      <td>46</td>\n",
       "      <td>349</td>\n",
       "      <td>NaN</td>\n",
       "    </tr>\n",
       "  </tbody>\n",
       "</table>\n",
       "<p>500000 rows × 3 columns</p>\n",
       "</div>"
      ],
      "text/plain": [
       "    ADC1  ADC2  NaN\n",
       "1     62   488  NaN\n",
       "1    103   810  NaN\n",
       "1    620  4095  NaN\n",
       "1     48   373  NaN\n",
       "1     74   568  NaN\n",
       "..   ...   ...  ...\n",
       "1    106   827  NaN\n",
       "1     82   637  NaN\n",
       "1    125   980  NaN\n",
       "1     81   632  NaN\n",
       "1     46   349  NaN\n",
       "\n",
       "[500000 rows x 3 columns]"
      ]
     },
     "execution_count": 3,
     "metadata": {},
     "output_type": "execute_result"
    }
   ],
   "source": [
    "sinal"
   ]
  },
  {
   "cell_type": "code",
   "execution_count": 4,
   "id": "38a2b6fd",
   "metadata": {},
   "outputs": [
    {
     "data": {
      "text/html": [
       "<div>\n",
       "<style scoped>\n",
       "    .dataframe tbody tr th:only-of-type {\n",
       "        vertical-align: middle;\n",
       "    }\n",
       "\n",
       "    .dataframe tbody tr th {\n",
       "        vertical-align: top;\n",
       "    }\n",
       "\n",
       "    .dataframe thead th {\n",
       "        text-align: right;\n",
       "    }\n",
       "</style>\n",
       "<table border=\"1\" class=\"dataframe\">\n",
       "  <thead>\n",
       "    <tr style=\"text-align: right;\">\n",
       "      <th></th>\n",
       "      <th>ADC1</th>\n",
       "      <th>ADC2</th>\n",
       "      <th>NaN</th>\n",
       "    </tr>\n",
       "  </thead>\n",
       "  <tbody>\n",
       "    <tr>\n",
       "      <th>1</th>\n",
       "      <td>70</td>\n",
       "      <td>549</td>\n",
       "      <td>NaN</td>\n",
       "    </tr>\n",
       "    <tr>\n",
       "      <th>1</th>\n",
       "      <td>44</td>\n",
       "      <td>335</td>\n",
       "      <td>NaN</td>\n",
       "    </tr>\n",
       "    <tr>\n",
       "      <th>1</th>\n",
       "      <td>53</td>\n",
       "      <td>412</td>\n",
       "      <td>NaN</td>\n",
       "    </tr>\n",
       "    <tr>\n",
       "      <th>1</th>\n",
       "      <td>43</td>\n",
       "      <td>330</td>\n",
       "      <td>NaN</td>\n",
       "    </tr>\n",
       "    <tr>\n",
       "      <th>1</th>\n",
       "      <td>53</td>\n",
       "      <td>410</td>\n",
       "      <td>NaN</td>\n",
       "    </tr>\n",
       "    <tr>\n",
       "      <th>...</th>\n",
       "      <td>...</td>\n",
       "      <td>...</td>\n",
       "      <td>...</td>\n",
       "    </tr>\n",
       "    <tr>\n",
       "      <th>1</th>\n",
       "      <td>50</td>\n",
       "      <td>382</td>\n",
       "      <td>NaN</td>\n",
       "    </tr>\n",
       "    <tr>\n",
       "      <th>1</th>\n",
       "      <td>43</td>\n",
       "      <td>331</td>\n",
       "      <td>NaN</td>\n",
       "    </tr>\n",
       "    <tr>\n",
       "      <th>1</th>\n",
       "      <td>50</td>\n",
       "      <td>386</td>\n",
       "      <td>NaN</td>\n",
       "    </tr>\n",
       "    <tr>\n",
       "      <th>1</th>\n",
       "      <td>43</td>\n",
       "      <td>330</td>\n",
       "      <td>NaN</td>\n",
       "    </tr>\n",
       "    <tr>\n",
       "      <th>1</th>\n",
       "      <td>66</td>\n",
       "      <td>512</td>\n",
       "      <td>NaN</td>\n",
       "    </tr>\n",
       "  </tbody>\n",
       "</table>\n",
       "<p>100000 rows × 3 columns</p>\n",
       "</div>"
      ],
      "text/plain": [
       "    ADC1  ADC2  NaN\n",
       "1     70   549  NaN\n",
       "1     44   335  NaN\n",
       "1     53   412  NaN\n",
       "1     43   330  NaN\n",
       "1     53   410  NaN\n",
       "..   ...   ...  ...\n",
       "1     50   382  NaN\n",
       "1     43   331  NaN\n",
       "1     50   386  NaN\n",
       "1     43   330  NaN\n",
       "1     66   512  NaN\n",
       "\n",
       "[100000 rows x 3 columns]"
      ]
     },
     "execution_count": 4,
     "metadata": {},
     "output_type": "execute_result"
    }
   ],
   "source": [
    "pedestal"
   ]
  },
  {
   "cell_type": "code",
   "execution_count": 5,
   "id": "d1e554ab",
   "metadata": {},
   "outputs": [],
   "source": [
    "if not joao:\n",
    "    pedestal = pedestal[pedestal['ADC2']*0.025<20]"
   ]
  },
  {
   "cell_type": "code",
   "execution_count": 6,
   "id": "c0e3f481",
   "metadata": {},
   "outputs": [
    {
     "data": {
      "image/png": "[encoded data removed]",
      "text/plain": [
       "<Figure size 432x288 with 1 Axes>"
      ]
     },
     "metadata": {
      "needs_background": "light"
     },
     "output_type": "display_data"
    }
   ],
   "source": [
    "n, bins, patches = plt.hist(pedestal['ADC2']*0.025, 100)\n",
    "plt.xlabel('Carga (pC)')\n",
    "plt.ylabel('Counts')\n",
    "#plt.semilogy()\n",
    "plt.title(\"Plot do pedestal\")\n",
    "plt.grid(True)\n",
    "plt.show()"
   ]
  },
  {
   "cell_type": "code",
   "execution_count": 7,
   "id": "6c24d57b",
   "metadata": {},
   "outputs": [
    {
     "data": {
      "image/png": "[encoded data removed]",
      "text/plain": [
       "<Figure size 432x288 with 1 Axes>"
      ]
     },
     "metadata": {
      "needs_background": "light"
     },
     "output_type": "display_data"
    }
   ],
   "source": [
    "n, bins, patches = plt.hist(sinal['ADC2']*0.025, 100)\n",
    "plt.xlabel('Carga (pC)')\n",
    "plt.ylabel('Counts')\n",
    "#plt.semilogy()\n",
    "plt.title(\"Plot do sinal\")\n",
    "plt.grid(True)\n",
    "plt.show()"
   ]
  },
  {
   "cell_type": "code",
   "execution_count": 16,
   "id": "86aac4a0",
   "metadata": {},
   "outputs": [
    {
     "data": {
      "text/plain": [
       "9.1876695"
      ]
     },
     "execution_count": 16,
     "metadata": {},
     "output_type": "execute_result"
    }
   ],
   "source": [
    "pedestal['ADC2'].mean()*0.025"
   ]
  },
  {
   "cell_type": "code",
   "execution_count": 17,
   "id": "262cd08e",
   "metadata": {},
   "outputs": [
    {
     "data": {
      "text/plain": [
       "1.1705607356707763"
      ]
     },
     "execution_count": 17,
     "metadata": {},
     "output_type": "execute_result"
    }
   ],
   "source": [
    "math.sqrt(pedestal['ADC2'].var())*0.025"
   ]
  },
  {
   "cell_type": "code",
   "execution_count": 18,
   "id": "9a0da732",
   "metadata": {},
   "outputs": [
    {
     "data": {
      "text/plain": [
       "9.559222"
      ]
     },
     "execution_count": 18,
     "metadata": {},
     "output_type": "execute_result"
    }
   ],
   "source": [
    "pedestal['ADC1'].mean()*0.2"
   ]
  },
  {
   "cell_type": "code",
   "execution_count": 19,
   "id": "388a2fdd",
   "metadata": {},
   "outputs": [
    {
     "data": {
      "text/plain": [
       "1.1827146498016452"
      ]
     },
     "execution_count": 19,
     "metadata": {},
     "output_type": "execute_result"
    }
   ],
   "source": [
    "math.sqrt(pedestal['ADC1'].var())*0.2"
   ]
  },
  {
   "cell_type": "code",
   "execution_count": 12,
   "id": "e8458ebd",
   "metadata": {},
   "outputs": [
    {
     "data": {
      "image/png": "[encoded data removed]",
      "text/plain": [
       "<Figure size 432x288 with 1 Axes>"
      ]
     },
     "metadata": {
      "needs_background": "light"
     },
     "output_type": "display_data"
    }
   ],
   "source": [
    "n, bins, patches = plt.hist((sinal['ADC2']-pedestal['ADC2'].mean())*0.025, 100,range=[0, np.max((sinal['ADC2']-pedestal['ADC2'].mean())*0.025)])\n",
    "plt.xlabel('Carga (pC)')\n",
    "plt.ylabel('Counts')\n",
    "#plt.semilogy()\n",
    "plt.title(\"Plot do sinal subtraído do pedestal\")\n",
    "plt.grid(True)\n",
    "plt.show()"
   ]
  },
  {
   "cell_type": "code",
   "execution_count": 13,
   "id": "acbc6889",
   "metadata": {},
   "outputs": [
    {
     "data": {
      "image/png": "[encoded data removed]",
      "text/plain": [
       "<Figure size 432x288 with 1 Axes>"
      ]
     },
     "metadata": {
      "needs_background": "light"
     },
     "output_type": "display_data"
    }
   ],
   "source": [
    "n, bins, patches = plt.hist(pedestal['ADC1']*0.2, 50,range=[0, 100])\n",
    "plt.xlabel('Carga (pC)')\n",
    "plt.ylabel('Counts')\n",
    "#plt.semilogy()\n",
    "plt.title(\"Plot do pedestal\")\n",
    "plt.grid(True)\n",
    "plt.show()"
   ]
  },
  {
   "cell_type": "code",
   "execution_count": 14,
   "id": "ae61affd",
   "metadata": {},
   "outputs": [
    {
     "data": {
      "image/png": "[encoded data removed]",
      "text/plain": [
       "<Figure size 432x288 with 1 Axes>"
      ]
     },
     "metadata": {
      "needs_background": "light"
     },
     "output_type": "display_data"
    }
   ],
   "source": [
    "n, bins, patches = plt.hist(sinal['ADC1']*0.2, 50,range=[0, 100])\n",
    "plt.xlabel('Carga (pC)')\n",
    "plt.ylabel('Counts')\n",
    "#plt.semilogy()\n",
    "plt.title(\"Plot do sinal\")\n",
    "plt.grid(True)\n",
    "plt.show()"
   ]
  },
  {
   "cell_type": "code",
   "execution_count": 15,
   "id": "0496d040",
   "metadata": {},
   "outputs": [
    {
     "data": {
      "image/png": "[encoded data removed]",
      "text/plain": [
       "<Figure size 432x288 with 1 Axes>"
      ]
     },
     "metadata": {
      "needs_background": "light"
     },
     "output_type": "display_data"
    }
   ],
   "source": [
    "n, bins, patches = plt.hist((sinal['ADC1']-pedestal['ADC1'].mean())*0.2, 50,range=[0, 100])\n",
    "plt.xlabel('Carga (pC)')\n",
    "plt.ylabel('Counts')\n",
    "#plt.semilogy()\n",
    "plt.title(\"Plot do sinal subtraído do pedestal\")\n",
    "plt.grid(True)\n",
    "plt.show()"
   ]
  },
  {
   "cell_type": "code",
   "execution_count": 20,
   "id": "8f2b4379",
   "metadata": {},
   "outputs": [
    {
     "data": {
      "text/plain": [
       "9.494415050000006"
      ]
     },
     "execution_count": 20,
     "metadata": {},
     "output_type": "execute_result"
    }
   ],
   "source": [
    "(sinal['ADC2']-pedestal['ADC2'].mean()).mean()*0.025"
   ]
  },
  {
   "cell_type": "code",
   "execution_count": 26,
   "id": "343fa782",
   "metadata": {},
   "outputs": [
    {
     "data": {
      "text/plain": [
       "3.0813008697626407"
      ]
     },
     "execution_count": 26,
     "metadata": {},
     "output_type": "execute_result"
    }
   ],
   "source": [
    "math.sqrt((sinal['ADC2']-pedestal['ADC2'].mean()).mean()*0.025)"
   ]
  },
  {
   "cell_type": "code",
   "execution_count": 22,
   "id": "c6dd3b56",
   "metadata": {},
   "outputs": [
    {
     "data": {
      "text/plain": [
       "9.684298399999989"
      ]
     },
     "execution_count": 22,
     "metadata": {},
     "output_type": "execute_result"
    }
   ],
   "source": [
    "(sinal['ADC1']-pedestal['ADC1'].mean()).mean()*0.2"
   ]
  },
  {
   "cell_type": "code",
   "execution_count": 27,
   "id": "a1bce0f6",
   "metadata": {},
   "outputs": [
    {
     "data": {
      "text/plain": [
       "3.111960539595576"
      ]
     },
     "execution_count": 27,
     "metadata": {},
     "output_type": "execute_result"
    }
   ],
   "source": [
    "math.sqrt((sinal['ADC1']-pedestal['ADC1'].mean()).mean()*0.2)"
   ]
  },
  {
   "cell_type": "code",
   "execution_count": null,
   "id": "9394762c",
   "metadata": {},
   "outputs": [],
   "source": []
  }
 ],
 "metadata": {
  "kernelspec": {
   "display_name": "Python 3",
   "language": "python",
   "name": "python3"
  },
  "language_info": {
   "codemirror_mode": {
    "name": "ipython",
    "version": 3
   },
   "file_extension": ".py",
   "mimetype": "text/x-python",
   "name": "python",
   "nbconvert_exporter": "python",
   "pygments_lexer": "ipython3",
   "version": "3.9.12"
  }
 },
 "nbformat": 4,
 "nbformat_minor": 5
}
